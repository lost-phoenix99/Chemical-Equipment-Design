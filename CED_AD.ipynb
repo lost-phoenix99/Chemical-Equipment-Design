{
  "nbformat": 4,
  "nbformat_minor": 0,
  "metadata": {
    "colab": {
      "name": "CED_AD.ipynb",
      "provenance": [],
      "collapsed_sections": [],
      "authorship_tag": "ABX9TyMkkiki7Ng5dlGSK80UW7M3",
      "include_colab_link": true
    },
    "kernelspec": {
      "name": "python3",
      "display_name": "Python 3"
    },
    "language_info": {
      "name": "python"
    }
  },
  "cells": [
    {
      "cell_type": "markdown",
      "metadata": {
        "id": "view-in-github",
        "colab_type": "text"
      },
      "source": [
        "<a href=\"https://colab.research.google.com/github/lost-phoenix99/Chemical-Equipment-Design/blob/main/CED_AD.ipynb\" target=\"_parent\"><img src=\"https://colab.research.google.com/assets/colab-badge.svg\" alt=\"Open In Colab\"/></a>"
      ]
    },
    {
      "cell_type": "markdown",
      "metadata": {
        "id": "BmLFYIpZdhj-"
      },
      "source": [
        "# **Chemical Equipment Design**\n",
        "## **Equipments covered**\n",
        "\n",
        "\n",
        "1.   DPHE (Double Pipe Heat Exchanger)\n",
        "2.   STHE (Shell and Tube Heat Exchanger )\n",
        "\n",
        "\n",
        "---\n",
        "---\n",
        "\n"
      ]
    },
    {
      "cell_type": "markdown",
      "metadata": {
        "id": "CoGy4-bKercd"
      },
      "source": [
        "## **DPHE (Double Pipe Heat Exchanger)**\n",
        "## **Procedure and Calculation**\n",
        "\n",
        "\n",
        "1.  Find the avg temperature of the Hot and Cold Fluid\n",
        "2.  Based on average temperature,find the physical and properties of both Hot and Cold Fluid,i.e. specific heat $C_{p}$ , density ($\\rho$) , viscosity($\\mu)$ & thermal conductivity(k) \n",
        "3. Calculate LMTD\n",
        "4. Finding Tube Characteristics Pg. 6-42,Table 6.6\n",
        "5. Calculate individual heat transfer co-efficient \n",
        "6. Find $U_{c}$ (clear)\n",
        "$$\\frac{1}{U_c} = \\frac{1}{h_o} + \\frac{1}{h_{io}} $$\n",
        "7. Find $U_{d}$ (Dirt)\n",
        "$$\\frac{1}{U_d} = \\frac{1}{U_c} + R_{d} $$\n",
        "8. Calculate heat transfer area for required for curing \n",
        "$$Q=U_{d}A(\\Delta{T})$$\n",
        "9. Find number of tubes and its length\n",
        "10. Find pressure drop for both the sides (Tube and Shell).If, $$\\Delta{P} \\; > \\; 70,000 \\; N/m^{2}$$Redesign.\n",
        "\n",
        "---\n",
        "---\n",
        "\n",
        "\n",
        "\n"
      ]
    },
    {
      "cell_type": "code",
      "metadata": {
        "colab": {
          "base_uri": "https://localhost:8080/"
        },
        "id": "b0_s1HFVf4s7",
        "outputId": "fe501957-e936-4e14-c3a6-7aa30e72e718"
      },
      "source": [
        "#Step 1 : Avg temperature of the Hot and Cold Fluid#\n",
        "T1,T2=input(\"Enter the value of T1 and T2 (Use space when entering the next value) : \").split()\n",
        "t1,t2=input(\"Enter the value of t1 and t2 (Use space when entering the next value) : \").split()\n",
        "T1=float(T1)              #type_conversion\n",
        "T2=float(T2)\n",
        "t1=float(t1)\n",
        "t2=float(t2)\n",
        "avgT=(T1+T2)/2            #avg_temp_hot_fluid\n",
        "avgt=(t1+t2)/2            #avg_temp_cold_fluid\n",
        "print(\"Avg temperature of the Hot Fluid =\",avgT)\n",
        "print(\"Avg temperature of the Cold Fluid =\",avgt)"
      ],
      "execution_count": 2,
      "outputs": [
        {
          "output_type": "stream",
          "text": [
            "Enter the value of T1 and T2 (Use space when entering the next value) : 78 90\n",
            "Enter the value of t1 and t2 (Use space when entering the next value) : 73 78\n",
            "Avg temperature of the Hot Fluid = 84.0\n",
            "Avg temperature of the Cold Fluid = 75.5\n"
          ],
          "name": "stdout"
        }
      ]
    },
    {
      "cell_type": "markdown",
      "metadata": {
        "id": "L3EpzZ60ZyRI"
      },
      "source": [
        "**Use Perry's Handbook for obtaining the data**\n",
        "\n",
        "\n",
        "1.   List item\n",
        "2.   List item\n",
        "\n"
      ]
    },
    {
      "cell_type": "code",
      "metadata": {
        "id": "4tTPiVMVvXoS",
        "colab": {
          "base_uri": "https://localhost:8080/"
        },
        "outputId": "1575bd2f-82a6-4240-b8b5-522d588fa8dc"
      },
      "source": [
        "#Step 2 : Getting physical properties of Hot and Cold fluid wrt the average temperature\n",
        "Cph=float(input(\"Enter the value of Cp for Hot Fluid \")) \n",
        "Cpc=float(input(\"Enter the value of Cp for Cold Fluid \")) \n",
        "Cph=Cph*4187              #converting into Joules/kg.C\n",
        "Cpc=Cpc*4187              #converting into Joules/kg.C\n",
        "dh=float(input(\"Enter the value of density for Hot Fluid \")\n",
        "dc=float(input(\"Enter the value of density for Cold Fluid \"))\n",
        "dh=dh*1000\n",
        "dc=dc*1000\n",
        "vh=float(input(\"Enter the value of viscosity for Hot Fluid \"))\n",
        "vc=float(input(\"Enter the value of viscosity for Cold Fluid \"))\n",
        "vh=vh*3.6\n",
        "vc=vc*3.6\n",
        "kh=float(input(\"Enter the value of thermal conductivity(k) for Hot Fluid \")) \n",
        "kc=float(input(\"Enter the value of thermal conductivity(k) for Cold Fluid \"))"
      ],
      "execution_count": null,
      "outputs": [
        {
          "output_type": "stream",
          "text": [
            "Enter the value of Cp for Hot Fluid .44\n",
            "Enter the value of Cp for Cold Fluid .48\n"
          ],
          "name": "stdout"
        }
      ]
    },
    {
      "cell_type": "markdown",
      "metadata": {
        "id": "AVcmO3TiZ5qT"
      },
      "source": [
        "**Use Perry's Handbook for obtaining the data**\n",
        "\n",
        "\n",
        "1.   List item\n",
        "2.   List item\n"
      ]
    },
    {
      "cell_type": "code",
      "metadata": {
        "colab": {
          "base_uri": "https://localhost:8080/"
        },
        "id": "qRP0migMYugw",
        "outputId": "0fabfe1e-f83e-4c7b-c7ef-8d95c8f156b4"
      },
      "source": [
        "#Step 3 : Getting tubing characteristics\n",
        "Do=float(input(\"Enter the value of outside diameter of Shell \"))\n",
        "Di=float(input(\"Enter the value of outside diameter of Shell \"))\n",
        "Do=Do*.0254\n",
        "Di=Di*.0254\n",
        "do=float(input(\"Enter the value of outside diameter of Tube \"))\n",
        "di=float(input(\"Enter the value of outside diameter of Tube \"))\n",
        "do=do*.0254\n",
        "di=di*.0254"
      ],
      "execution_count": null,
      "outputs": [
        {
          "output_type": "stream",
          "text": [
            "Enter the value of outside diameter of Shell 2.375\n",
            "Enter the value of outside diameter of Shell 2.067\n",
            "Enter the value of outside diameter of Tube 1.66\n",
            "Enter the value of outside diameter of Tube 1.38\n"
          ],
          "name": "stdout"
        }
      ]
    },
    {
      "cell_type": "code",
      "metadata": {
        "id": "4Q3fygegZvo6"
      },
      "source": [
        "#Step 4:"
      ],
      "execution_count": null,
      "outputs": []
    },
    {
      "cell_type": "code",
      "metadata": {
        "id": "I6vJ6a1aiGeK",
        "colab": {
          "base_uri": "https://localhost:8080/"
        },
        "outputId": "a7491d9d-e0af-49de-ec34-c391afb2ca92"
      },
      "source": [
        "#test_code_runner\n",
        "print(Do,Di,do,di)\n"
      ],
      "execution_count": null,
      "outputs": [
        {
          "output_type": "stream",
          "text": [
            "0.060325 0.0525018 0.04216399999999999 0.03505199999999999\n"
          ],
          "name": "stdout"
        }
      ]
    }
  ]
}