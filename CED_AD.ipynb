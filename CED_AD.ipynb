{
  "nbformat": 4,
  "nbformat_minor": 0,
  "metadata": {
    "colab": {
      "name": "CED_AD.ipynb",
      "provenance": [],
      "collapsed_sections": [],
      "authorship_tag": "ABX9TyNIRsPqQiw6+pMExdnRLp8E",
      "include_colab_link": true
    },
    "kernelspec": {
      "name": "python3",
      "display_name": "Python 3"
    },
    "language_info": {
      "name": "python"
    }
  },
  "cells": [
    {
      "cell_type": "markdown",
      "metadata": {
        "id": "view-in-github",
        "colab_type": "text"
      },
      "source": [
        "<a href=\"https://colab.research.google.com/github/lost-phoenix99/Chemical-Equipment-Design/blob/main/CED_AD.ipynb\" target=\"_parent\"><img src=\"https://colab.research.google.com/assets/colab-badge.svg\" alt=\"Open In Colab\"/></a>"
      ]
    },
    {
      "cell_type": "markdown",
      "metadata": {
        "id": "BmLFYIpZdhj-"
      },
      "source": [
        "# **Chemical Equipment Design**\n",
        "## **Equipments covered**\n",
        "\n",
        "\n",
        "1.   DPHE (Double Pipe Heat Exchanger)\n",
        "2.   STHE\n",
        "\n",
        "\n",
        "---\n",
        "\n",
        "\n"
      ]
    },
    {
      "cell_type": "markdown",
      "metadata": {
        "id": "CoGy4-bKercd"
      },
      "source": [
        "## **DPHE (Double Pipe Heat Exchanger)**\n",
        "## Procedure and Calculation\n",
        "\n",
        "\n",
        "1.  Find the avg temperature of the Hot and Cold Fluid\n",
        "2.  Based on average temperature,find the physical and properties of both Hot  \n",
        "    and Cold Fluid,i.e. (Cp,density,viscosity, & thermal conductivity)\n",
        "3. Calculate LMTD\n",
        "\n",
        "\n",
        "---\n",
        "\n",
        "\n",
        "\n",
        "\n"
      ]
    },
    {
      "cell_type": "code",
      "metadata": {
        "colab": {
          "base_uri": "https://localhost:8080/"
        },
        "id": "b0_s1HFVf4s7",
        "outputId": "a077abeb-12fe-477b-bf4e-220a5b31254b"
      },
      "source": [
        "#Step 1 : Avg temperature of the Hot and Cold Fluid#\n",
        "T1,T2=input(\"Enter the value of T1 and T2 (Use space when entering the next value) : \").split()\n",
        "t1,t2=input(\"Enter the value of t1 and t2 (Use space when entering the next value) : \").split()\n",
        "T1=float(T1)              #type_conversion\n",
        "T2=float(T2)\n",
        "t1=float(t1)\n",
        "t2=float(t2)\n",
        "avgT=(T1+T2)/2            #avg_temp_hot_fluid\n",
        "avgt=(t1+t2)/2            #avg_temp_cold_fluid\n",
        "print(\"Avg temperature of the Hot and Cold Fluid =\",avgT,\"and\",avgt)"
      ],
      "execution_count": null,
      "outputs": [
        {
          "output_type": "stream",
          "text": [
            "Enter the value of T1 and T2 (Use space when entering the next value) : 45 45\n",
            "Enter the value of t1 and t2 (Use space when entering the next value) : 45 45\n",
            "Avg temperature of the Hot and Cold Fluid = 45.0 and 45.0\n"
          ],
          "name": "stdout"
        }
      ]
    },
    {
      "cell_type": "code",
      "metadata": {
        "id": "I6vJ6a1aiGeK"
      },
      "source": [
        "#test_code_runner\n"
      ],
      "execution_count": 1,
      "outputs": []
    }
  ]
}
