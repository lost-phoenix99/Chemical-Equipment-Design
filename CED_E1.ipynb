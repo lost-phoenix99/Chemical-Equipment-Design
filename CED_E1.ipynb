{
  "nbformat": 4,
  "nbformat_minor": 0,
  "metadata": {
    "colab": {
      "name": "CED_E1.ipynb",
      "provenance": [],
      "collapsed_sections": [],
      "authorship_tag": "ABX9TyNQLTgw7XyIJCjFastDbsBq",
      "include_colab_link": true
    },
    "kernelspec": {
      "name": "python3",
      "display_name": "Python 3"
    },
    "language_info": {
      "name": "python"
    }
  },
  "cells": [
    {
      "cell_type": "markdown",
      "metadata": {
        "id": "view-in-github",
        "colab_type": "text"
      },
      "source": [
        "<a href=\"https://colab.research.google.com/github/lost-phoenix99/Chemical-Equipment-Design/blob/main/CED_E1.ipynb\" target=\"_parent\"><img src=\"https://colab.research.google.com/assets/colab-badge.svg\" alt=\"Open In Colab\"/></a>"
      ]
    },
    {
      "cell_type": "markdown",
      "metadata": {
        "id": "BmLFYIpZdhj-"
      },
      "source": [
        "# **Chemical Equipment Design**\n",
        "## **Equipments covered**\n",
        "\n",
        "\n",
        "1.   DPHE (Double Pipe Heat Exchanger)\n",
        "2.   STHE (Shell and Tube Heat Exchanger )\n",
        "\n",
        "\n",
        "---\n",
        "---\n",
        "\n"
      ]
    },
    {
      "cell_type": "markdown",
      "metadata": {
        "id": "CoGy4-bKercd"
      },
      "source": [
        "## **DPHE (Double Pipe Heat Exchanger)**\n",
        "## **Procedure and Calculation**\n",
        "\n",
        "\n",
        "1.  Find the avg temperature of the Hot and Cold Fluid\n",
        "2.  Based on average temperature,find the physical and properties of both Hot and Cold Fluid,i.e. specific heat $C_{p}$ , density ($\\rho$) , viscosity($\\mu)$ & thermal conductivity(k) \n",
        "3. Calculate LMTD\n",
        "4. Finding Tube Characteristics Pg. 6-42,Table 6.6\n",
        "5. Calculate individual heat transfer co-efficient \n",
        "6. Find $U_{c}$ (clear)\n",
        "$$\\frac{1}{U_c} = \\frac{1}{h_o} + \\frac{1}{h_{io}} $$\n",
        "7. Find $U_{d}$ (Dirt)\n",
        "$$\\frac{1}{U_d} = \\frac{1}{U_c} + R_{d} $$\n",
        "8. Calculate heat transfer area for required for curing \n",
        "$$Q=U_{d}A(\\Delta{T})$$\n",
        "9. Find number of tubes and its length\n",
        "10. Find pressure drop for both the sides (Tube and Shell).If, $$\\Delta{P} \\; > \\; 70,000 \\; N/m^{2}$$Redesign.\n",
        "\n",
        "---\n",
        "---\n",
        "\n",
        "\n",
        "\n"
      ]
    },
    {
      "cell_type": "code",
      "metadata": {
        "colab": {
          "base_uri": "https://localhost:8080/"
        },
        "id": "b0_s1HFVf4s7",
        "outputId": "a574f3a3-0cdf-4f60-8b25-08cb29945dc5"
      },
      "source": [
        "#Step 1 : Avg temperature of the Hot and Cold Fluid#\n",
        "import math\n",
        "T1,T2=input(\"Enter the value of T1 and T2 (Use space when entering the next value) : \").split()\n",
        "t1,t2=input(\"Enter the value of t1 and t2 (Use space when entering the next value) : \").split()\n",
        "T1=float(T1)              #type_conversion\n",
        "T2=float(T2)\n",
        "t1=float(t1)\n",
        "t2=float(t2)\n",
        "avgT=(T1+T2)/2            #avg_temp_hot_fluid\n",
        "avgt=(t1+t2)/2            #avg_temp_cold_fluid\n",
        "print(\"Avg temperature of the Hot Fluid =\",avgT)\n",
        "print(\"Avg temperature of the Cold Fluid =\",avgt)"
      ],
      "execution_count": 17,
      "outputs": [
        {
          "output_type": "stream",
          "text": [
            "Enter the value of T1 and T2 (Use space when entering the next value) : 71 37\n",
            "Enter the value of t1 and t2 (Use space when entering the next value) : 40 30 \n",
            "Avg temperature of the Hot Fluid = 54.0\n",
            "Avg temperature of the Cold Fluid = 35.0\n"
          ],
          "name": "stdout"
        }
      ]
    },
    {
      "cell_type": "markdown",
      "metadata": {
        "id": "L3EpzZ60ZyRI"
      },
      "source": [
        "**Use Perry's Handbook for obtaining the data**\n",
        "\n",
        "\n",
        "1.   List item\n",
        "2.   List item\n",
        "\n"
      ]
    },
    {
      "cell_type": "code",
      "metadata": {
        "id": "4tTPiVMVvXoS",
        "colab": {
          "base_uri": "https://localhost:8080/"
        },
        "outputId": "5df7ee73-5273-4436-833e-4cb8bccfa587"
      },
      "source": [
        "#Step 2 : Getting physical properties of Hot and Cold fluid wrt the average temperature\n",
        "Cph=float(input(\"Enter the value of Cp for Hot Fluid \")) \n",
        "Cpc=float(input(\"Enter the value of Cp for Cold Fluid \")) \n",
        "Cph=Cph*4187              #converting into Joules/kg.C\n",
        "Cpc=Cpc*4187              #converting into Joules/kg.C\n",
        "dh=float(input(\"Enter the value of density for Hot Fluid \"))\n",
        "dc=float(input(\"Enter the value of density for Cold Fluid \"))\n",
        "dh=dh*1000\n",
        "dc=dc*1000\n",
        "vh=float(input(\"Enter the value of viscosity for Hot Fluid \"))\n",
        "vc=float(input(\"Enter the value of viscosity for Cold Fluid \"))\n",
        "vh=vh*3.6\n",
        "vc=vc*3.6\n",
        "kh=float(input(\"Enter the value of thermal conductivity(k) for Hot Fluid \")) \n",
        "kc=float(input(\"Enter the value of thermal conductivity(k) for Cold Fluid \"))\n",
        "kh=kh*1.731\n",
        "kc=kc*1.731"
      ],
      "execution_count": 22,
      "outputs": [
        {
          "output_type": "stream",
          "text": [
            "Enter the value of Cp for Hot Fluid 1\n",
            "Enter the value of Cp for Cold Fluid 2\n",
            "Enter the value of density for Hot Fluid 3\n",
            "Enter the value of density for Cold Fluid 4\n",
            "Enter the value of viscosity for Hot Fluid 5\n",
            "Enter the value of viscosity for Cold Fluid 6\n",
            "Enter the value of thermal conductivity(k) for Hot Fluid 7\n",
            "Enter the value of thermal conductivity(k) for Cold Fluid 8\n"
          ],
          "name": "stdout"
        }
      ]
    },
    {
      "cell_type": "code",
      "metadata": {
        "colab": {
          "base_uri": "https://localhost:8080/"
        },
        "id": "RW-bo-Y1sXvX",
        "outputId": "caccb077-157e-4a8b-b1ea-9728fcca62cb"
      },
      "source": [
        "#Step 3 : Calculating LMTD\n",
        "N=(T1-T2)-(t1-t2) \n",
        "x=(T1-T2)/(t1-t2)\n",
        "D=math.log(x) \n",
        "LMTD=N/D\n",
        "print(\"LMTD =\",LMTD)"
      ],
      "execution_count": 21,
      "outputs": [
        {
          "output_type": "stream",
          "text": [
            "LMTD = 19.611441265974733\n"
          ],
          "name": "stdout"
        }
      ]
    },
    {
      "cell_type": "markdown",
      "metadata": {
        "id": "AVcmO3TiZ5qT"
      },
      "source": [
        "**Use Perry's Handbook for obtaining the data**\n",
        "\n",
        "\n",
        "1.   List item\n",
        "2.   List item\n"
      ]
    },
    {
      "cell_type": "code",
      "metadata": {
        "id": "qRP0migMYugw"
      },
      "source": [
        "#Step 4 : Getting tubing characteristics\n",
        "Do=float(input(\"Enter the value of outside diameter of Shell \"))\n",
        "Di=float(input(\"Enter the value of outside diameter of Shell \"))\n",
        "Do=Do*.0254\n",
        "Di=Di*.0254\n",
        "do=float(input(\"Enter the value of outside diameter of Tube \"))\n",
        "di=float(input(\"Enter the value of outside diameter of Tube \"))\n",
        "do=do*.0254\n",
        "di=di*.0254"
      ],
      "execution_count": null,
      "outputs": []
    },
    {
      "cell_type": "code",
      "metadata": {
        "id": "4Q3fygegZvo6"
      },
      "source": [
        "#Step 5 : "
      ],
      "execution_count": null,
      "outputs": []
    },
    {
      "cell_type": "code",
      "metadata": {
        "id": "I6vJ6a1aiGeK"
      },
      "source": [
        "#test_code_runner\n",
        "print(Do,Di,do,di)\n"
      ],
      "execution_count": null,
      "outputs": []
    },
    {
      "cell_type": "code",
      "metadata": {
        "id": "VHab9xD702gp"
      },
      "source": [
        ""
      ],
      "execution_count": null,
      "outputs": []
    }
  ]
}